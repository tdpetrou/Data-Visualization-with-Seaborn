{
 "cells": [
  {
   "cell_type": "markdown",
   "metadata": {},
   "source": [
    "# About the Instructor\n",
    "\n",
    "* Teddy Petrou\n",
    "* Author of Master Data Analysis with Python\n",
    "* Founder of [Dunder Data](http://dunderdata.com)"
   ]
  },
  {
   "cell_type": "markdown",
   "metadata": {},
   "source": [
    "# Syllabus\n",
    "\n",
    "### Module 1: An overview of the Matplotlib Figure and Axes (30 min)\n",
    "* Training Overview \n",
    "* Matplotlib Figure and Axes objects\n",
    "* An object-oriented approach to Matplotlib\n",
    "* Seaborn as a “wrapper” for Matplotlib\n",
    " \n",
    "### Module 2: Introduction to Seaborn (30 min)\n",
    "* Seaborn documentation and API\n",
    "* Integration with Pandas DataFrames\n",
    "* Main plotting parameters\n",
    "* Grid vs Axes plots\n",
    "* A different categorization for Seaborn plots\n",
    " \n",
    "### Module 3: Distribution Plots (75 min)\n",
    "* Univariate distribution plots\n",
    "* Box plots\n",
    "* Changing the orientation of plots\n",
    "* Histograms and KDEs\n",
    "* Other distribution plots\n",
    " \n",
    "### Module 4: Automatic Grouping by Category (75 min)\n",
    "* Plotting a continuous by a categorical variable\n",
    "* Grouping with two continuous variables\n",
    "* Splitting groups by setting hue\n",
    " \n",
    "## Day 2\n",
    " \n",
    "### Module 5: Grouping and Aggregating Plots (60 min)\n",
    "* Univariate grouping and aggregating\n",
    "* Choosing the aggregation function\n",
    "* Bar, Point, Count, and Line plots\n",
    " \n",
    "### Module 6: Tidy Data (30 min)\n",
    "* Definition of tidy data\n",
    "* Long data vs wide data\n",
    "* Seaborn automatically groups and aggregates\n",
    "* Manually grouping and aggregating with pandas\n",
    " \n",
    "### Module 7: Raw Data Plots (60 min)\n",
    "* Scatterplots\n",
    "* Regression plots\n",
    "* Heatmaps\n",
    " \n",
    "### Module 8: Grid Plots (60 min)\n",
    "* Relationship with Matplotlib Figures\n",
    "* Discovering the Grid plotting functions\n",
    "* Setting the plot with the kind parameter\n",
    "* Creating multiple Axes with row/col parameters\n",
    "* Bivariate distribution plots\n",
    "* Hierarchical cluster maps\n",
    " \n",
    "### Module 9: Seaborn Styles and Palettes (30 min)\n",
    "* Run configuration parameters\n",
    "* Specific Seaborn styles\n",
    "* Color palettes and widgets"
   ]
  },
  {
   "cell_type": "markdown",
   "metadata": {},
   "source": [
    "## Getting Started \n",
    "\n",
    "* Install matplotlib, seaborn\n",
    "* pip install seaborn matplotlib\n",
    "* conda install seaborn matplotlib"
   ]
  },
  {
   "cell_type": "code",
   "execution_count": null,
   "metadata": {},
   "outputs": [],
   "source": []
  },
  {
   "cell_type": "markdown",
   "metadata": {},
   "source": [
    "# Seaborn Axes Plots\n",
    "\n",
    "* Seaborn is a high-level, easy-to-use interface for creating powerful and beautiful visualizations\n",
    "* Relies on matplotlib entirely\n",
    "* Relatively few functions"
   ]
  },
  {
   "cell_type": "markdown",
   "metadata": {},
   "source": [
    "## Matplotlib Figure - Axes Review\n",
    "\n",
    "* Figure contains one or more axes\n",
    "* Axes (\"Axeeez\") - a single plot within a figure\n",
    "* `plt.subplots` creates a figure and one or axes\n",
    "    * Set first two arguments to number of rows and columns of Axes\n",
    "    * `figsize` - tuple of width, height of Axes in in inches\n",
    "    * `dpi` - dots per inch - set to monitor dpi to get matplotlib inches to equal screen inches\n",
    "    * `facecolor` - background color\n",
    "    * `tight_layout` - boolean for nice spacing\n",
    "    * `plt.subplots(2, 3, figsize=(7, 4), dpi=147, facecolor='tan', tight_layout=True)`\n",
    "    * Returns a two-item tuple, where first item is a Figure. Second item is\n",
    "        * Axes if 1x1\n",
    "        * Numpy array of Axes if anything else"
   ]
  },
  {
   "cell_type": "code",
   "execution_count": null,
   "metadata": {},
   "outputs": [],
   "source": [
    "import matplotlib.pyplot as plt"
   ]
  },
  {
   "cell_type": "markdown",
   "metadata": {},
   "source": [
    "### Create matplotlib figure with different number of axes"
   ]
  },
  {
   "cell_type": "code",
   "execution_count": null,
   "metadata": {},
   "outputs": [],
   "source": []
  },
  {
   "cell_type": "markdown",
   "metadata": {},
   "source": [
    "### Retrieve the figure from the axes"
   ]
  },
  {
   "cell_type": "code",
   "execution_count": null,
   "metadata": {},
   "outputs": [],
   "source": []
  },
  {
   "cell_type": "markdown",
   "metadata": {},
   "source": [
    "## The seaborn API and User Guide\n",
    "\n",
    "Keep the [seaborn API page][1] and [user guide][2] throughout the lesson\n",
    "\n",
    "* Relational\n",
    "* Categorical\n",
    "* Distribution\n",
    "* Regression\n",
    "* Matrix\n",
    "\n",
    "### Axes and Grid plots\n",
    "\n",
    "All of the seaborn plotting functions return either a matplotlib axes or a seaborn grid (wrapper around a figure). \n",
    "\n",
    "* Functions that return a grid - `relplot`, `displot`, `catplot`, `lmplot` and `clustermap`\n",
    "* Focus on axes plots in this chapter\n",
    "\n",
    "### A different categorization of plots\n",
    "\n",
    "Distribution plots appear in categorical section.\n",
    "\n",
    "* **Distribution plots** - `boxplot`, `violinplot`, `histplot`, `kdeplot`.\n",
    "* **Grouping and aggregating plots** - `barplot`, `countplot`, `pointplot`, `lineplot`\n",
    "* **Raw data plots** - `scatterplot`, `lineplot`, `regplot`, `heatmap`\n",
    "\n",
    "[1]: http://seaborn.pydata.org/api.html\n",
    "[2]: https://seaborn.pydata.org/tutorial.html"
   ]
  },
  {
   "cell_type": "code",
   "execution_count": null,
   "metadata": {},
   "outputs": [],
   "source": []
  },
  {
   "cell_type": "markdown",
   "metadata": {},
   "source": [
    "## seaborn integration with pandas\n",
    "\n",
    "* seaborn is tightly integrated with pandas. \n",
    "* plotting functions contain a `data` parameter that accept a pandas DataFrame. \n",
    "* This allows you to use **strings** of the column names for the function arguments.\n",
    "\n",
    "### The four common seaborn plotting function parameters - `x`, `y`, `hue`, and `data`\n",
    "\n",
    "\n",
    "```python\n",
    ">>> sns.plotting_func(x='col1', data=df)\n",
    ">>> sns.plotting_func(y='col1', data=df)\n",
    ">>> sns.plotting_func(x='col1', y='col2', data=df)\n",
    ">>> sns.plotting_func(x='col1', y='col2', hue='col3', data=df)\n",
    "```"
   ]
  },
  {
   "cell_type": "markdown",
   "metadata": {},
   "source": [
    "## Distribution Plots\n",
    "\n",
    "* How numeric data is distributed across its range. \n",
    "* Where is it located? \n",
    "* What kind of shape does it have?\n",
    "* boxplots, histograms, KDEs\n",
    "\n",
    "### Airbnb data from Washington D.C."
   ]
  },
  {
   "cell_type": "code",
   "execution_count": null,
   "metadata": {},
   "outputs": [],
   "source": [
    "import numpy as np\n",
    "import pandas as pd\n",
    "import seaborn as sns\n",
    "airbnb = pd.read_csv('../data/airbnb.csv')\n",
    "airbnb.head(3)"
   ]
  },
  {
   "cell_type": "markdown",
   "metadata": {},
   "source": [
    "### Univariate distribution plots\n",
    "\n",
    "* Single numeric variable\n",
    "* Only set one of `x` or `y`\n",
    "* Create horizontal or vertical plots\n",
    "* Axes plot\n",
    "\n",
    "#### Plot price as horizontal boxplot"
   ]
  },
  {
   "cell_type": "code",
   "execution_count": null,
   "metadata": {
    "scrolled": false
   },
   "outputs": [],
   "source": [
    "sns.boxplot(x='price', data=airbnb.query('price < 1000'))"
   ]
  },
  {
   "cell_type": "markdown",
   "metadata": {},
   "source": [
    "## An axes is returned\n",
    "\n",
    "* Use `;` to suppress output\n",
    "* Assign result to `ax`\n",
    "* Retrieve underlying figure with `ax.figure`"
   ]
  },
  {
   "cell_type": "code",
   "execution_count": null,
   "metadata": {},
   "outputs": [],
   "source": []
  },
  {
   "cell_type": "markdown",
   "metadata": {},
   "source": [
    "## Setting plot aesthetics\n",
    "\n",
    "* Default plot settings not great\n",
    "* Use `sns.set_theme` function\n",
    "    * `style` - white, dark, whitegrid, darkgrid, ticks\n",
    "    * `rc` - matplotlib run configuration parameters\n",
    "        * Find values under plt.rcParams\n",
    "        * Use dictionary - `{'figure.dpi': 147}`\n",
    "        * Scale font with `font_scale`"
   ]
  },
  {
   "cell_type": "code",
   "execution_count": null,
   "metadata": {},
   "outputs": [],
   "source": [
    "def find_dpi(w, h, d):\n",
    "    \"\"\"\n",
    "    w : width in pixels\n",
    "    h : height in pixels\n",
    "    d : diagonal in inches\n",
    "    \"\"\"\n",
    "    w_inches = (15.4 ** 2 / (1 + h ** 2 / w ** 2)) ** 0.5\n",
    "    return round(w / w_inches)"
   ]
  },
  {
   "cell_type": "code",
   "execution_count": null,
   "metadata": {},
   "outputs": [],
   "source": [
    "MY_DPI = find_dpi(1920, 1200, 15.4)\n",
    "MY_DPI"
   ]
  },
  {
   "cell_type": "markdown",
   "metadata": {},
   "source": [
    "### Set theme now\n",
    "\n",
    "Sets theme for all plots in this notebook. Not permanent across all notebooks."
   ]
  },
  {
   "cell_type": "code",
   "execution_count": null,
   "metadata": {},
   "outputs": [],
   "source": [
    "sns.set_theme(style='darkgrid', rc={'figure.dpi': MY_DPI}, font_scale=0.7)\n",
    "sns.boxplot(x='price', data=airbnb.query('price < 1000'));"
   ]
  },
  {
   "cell_type": "markdown",
   "metadata": {},
   "source": [
    "## Controlling the size of an axes plot\n",
    "\n",
    "* Must create figure and axes before hand with `fig, ax = plt.subplots(figsize=(w, h))`\n",
    "* Then set `ax` parameter - `sns.plotting_func(..., ax=ax)`\n",
    "* Should be easier..."
   ]
  },
  {
   "cell_type": "code",
   "execution_count": null,
   "metadata": {},
   "outputs": [],
   "source": []
  },
  {
   "cell_type": "markdown",
   "metadata": {},
   "source": [
    "### Vertical plots\n",
    "\n",
    "* Set the `y` parameter"
   ]
  },
  {
   "cell_type": "code",
   "execution_count": null,
   "metadata": {},
   "outputs": [],
   "source": []
  },
  {
   "cell_type": "markdown",
   "metadata": {},
   "source": [
    "### Recreate box plot with matplotlib\n",
    "\n",
    "* Seaborn uses matplotlib's `boxplot` function"
   ]
  },
  {
   "cell_type": "code",
   "execution_count": null,
   "metadata": {},
   "outputs": [],
   "source": [
    "fig, ax = plt.subplots(figsize=(4, 1.5))\n",
    "ax.boxplot(x='price', data=airbnb.query('price < 1000'), \n",
    "           widths=.8, vert=False, patch_artist=True,\n",
    "           medianprops={'color': '.25', 'lw': 1.5},\n",
    "           boxprops={'ec': '.25', 'lw': 1.5, 'fc': '#3274a1'},\n",
    "           whiskerprops={'color': '.25', 'lw': 1.5}, \n",
    "           capprops={'color': '.25', 'lw': 1.5},\n",
    "           flierprops={'marker': 'd', 'mfc': '.25', 'mec': '.25', 'ms': 5});"
   ]
  },
  {
   "cell_type": "markdown",
   "metadata": {},
   "source": [
    "### Still have to use matplotlib for fine tuning\n",
    "\n",
    "* plot full range of price"
   ]
  },
  {
   "cell_type": "code",
   "execution_count": null,
   "metadata": {},
   "outputs": [],
   "source": [
    "from matplotlib import ticker\n",
    "fig, ax = plt.subplots(figsize=(4, .6))\n",
    "sns.boxplot(x='price', data=airbnb, whis=(5, 95), ax=ax)\n",
    "ax.set_xscale('log')\n",
    "ax.xaxis.set_major_locator(ticker.LogLocator(base=10, subs=(1, 2, 5)))\n",
    "func = lambda x, pos: f'${x:,.0f}' if x < 1000 else f'${x // 1000:.0f}k'\n",
    "ax.xaxis.set_major_formatter(ticker.FuncFormatter(func))\n",
    "ax.xaxis.set_minor_locator(ticker.NullLocator())\n",
    "ax.yaxis.set_major_locator(ticker.NullLocator())\n",
    "ax.spines['left'].set_visible(False)\n",
    "ax.spines['right'].set_visible(False)\n",
    "ax.spines['top'].set_visible(False)"
   ]
  },
  {
   "cell_type": "markdown",
   "metadata": {},
   "source": [
    "### Histograms\n",
    "\n",
    "* [histplot function](https://seaborn.pydata.org/generated/seaborn.histplot.html#seaborn.histplot)\n",
    "* Shows raw count per bin\n",
    "\n",
    "\n"
   ]
  },
  {
   "cell_type": "code",
   "execution_count": null,
   "metadata": {
    "scrolled": true
   },
   "outputs": [],
   "source": [
    "fig, ax = plt.subplots(figsize=(4.5, 2))\n",
    "sns.histplot(x='price', data=airbnb, binrange=(0, 400), ax=ax);"
   ]
  },
  {
   "cell_type": "markdown",
   "metadata": {},
   "source": [
    "### Function parameters\n",
    "\n",
    "* All functions have many parameters\n",
    "* Only memorize `data`, `x`, `y`, `hue` - common to all\n",
    "* Use help/api to learn about function specific parameters\n",
    "\n",
    "### Practice making histograms with different parameter combinations\n",
    "\n",
    "* `bins` - number of bins to use, default 'auto'\n",
    "* `binrange` - (left, right)\n",
    "* `binwidth` - width of bin - cannot be used with `bins`\n",
    "* `stat` - type of statistic to show - defaults to raw count - 'count', 'frequency', 'density', 'probability', 'percent'\n",
    "* `cumulative` - bool continuously adds \n",
    "* `element` - 'bar', 'step', 'poly' - type of line to draw\n",
    "* `fill` - boolean whether or not to fill with color\n",
    "* `kwargs` - extra keyword arguments forwarded to `plt.bar`\n",
    "    * `ec` - edgecolor\n",
    "    * `lw` - linewidth\n",
    "    * `alpha` - color opacity\n",
    "\n",
    "### Create several histograms with different parameters"
   ]
  },
  {
   "cell_type": "code",
   "execution_count": null,
   "metadata": {},
   "outputs": [],
   "source": []
  },
  {
   "cell_type": "markdown",
   "metadata": {},
   "source": [
    "### KDE Plots\n",
    "\n",
    "* Kernel Density Estimation - `kdeplot` function.\n",
    "* Estimates probability density function\n",
    "* Parameters\n",
    "    * `cumulative`, `log_scale`, `fill` - bool\n",
    "    * `color`, `ec`, `lw`"
   ]
  },
  {
   "cell_type": "code",
   "execution_count": null,
   "metadata": {},
   "outputs": [],
   "source": []
  },
  {
   "cell_type": "markdown",
   "metadata": {},
   "source": [
    "## Plot histograms and kde together"
   ]
  },
  {
   "cell_type": "code",
   "execution_count": null,
   "metadata": {},
   "outputs": [],
   "source": []
  },
  {
   "cell_type": "markdown",
   "metadata": {},
   "source": [
    "### Bivariate KDE plots\n",
    "\n",
    "* Two numeric values co-occurring from two different variables\n",
    "* Set `clip=((x_min, x_max), (y_min, y_max))`\n",
    "\n",
    "### Read in diamonds dataset"
   ]
  },
  {
   "cell_type": "code",
   "execution_count": null,
   "metadata": {
    "scrolled": true
   },
   "outputs": [],
   "source": [
    "diamonds = pd.read_csv('../data/diamonds.csv')\n",
    "diamonds.head()"
   ]
  },
  {
   "cell_type": "code",
   "execution_count": null,
   "metadata": {},
   "outputs": [],
   "source": [
    "diamonds.shape"
   ]
  },
  {
   "cell_type": "markdown",
   "metadata": {},
   "source": [
    "Filter diamonds to smaller dataset and then create bivariate KDE"
   ]
  },
  {
   "cell_type": "code",
   "execution_count": null,
   "metadata": {},
   "outputs": [],
   "source": []
  },
  {
   "cell_type": "code",
   "execution_count": null,
   "metadata": {},
   "outputs": [],
   "source": []
  },
  {
   "cell_type": "markdown",
   "metadata": {},
   "source": [
    "## Practice with the other distribution plots\n",
    "\n",
    "* `violinplot`\n",
    "* `stripplot`\n",
    "* `swarmplot`\n",
    "* `boxenplot`"
   ]
  },
  {
   "cell_type": "code",
   "execution_count": null,
   "metadata": {},
   "outputs": [],
   "source": []
  },
  {
   "cell_type": "markdown",
   "metadata": {},
   "source": [
    "## Long vs Wide data\n",
    "\n",
    "* Long data == Tidy data\n",
    "    * Every variable represents a column\n",
    "    * Every observation represents a row"
   ]
  },
  {
   "cell_type": "code",
   "execution_count": null,
   "metadata": {},
   "outputs": [],
   "source": [
    "mort = pd.read_csv('../data/mortality.csv', parse_dates=['week'])\n",
    "mort.head(10)"
   ]
  },
  {
   "cell_type": "markdown",
   "metadata": {},
   "source": [
    "### Pivot to create wide data\n",
    "\n",
    "* Use `pivot` method to transform\n",
    "* With wide data, all values have the same units\n",
    "* With long data, each column has different units of values"
   ]
  },
  {
   "cell_type": "code",
   "execution_count": null,
   "metadata": {},
   "outputs": [],
   "source": [
    "df_wide = mort.pivot(index=['week', 'age'], columns='status', values='deaths')\n",
    "df_wide.head(12)"
   ]
  },
  {
   "cell_type": "markdown",
   "metadata": {},
   "source": [
    "### Pivot a different set of variables to make wide data"
   ]
  },
  {
   "cell_type": "code",
   "execution_count": null,
   "metadata": {},
   "outputs": [],
   "source": []
  },
  {
   "cell_type": "markdown",
   "metadata": {},
   "source": [
    "### Read in the stocks dataset. Is it long or wide?"
   ]
  },
  {
   "cell_type": "code",
   "execution_count": null,
   "metadata": {},
   "outputs": [],
   "source": [
    "stocks = pd.read_csv('../data/stocks.csv', index_col='date', parse_dates=['date'])\n",
    "stocks.head()"
   ]
  },
  {
   "cell_type": "markdown",
   "metadata": {},
   "source": [
    "### Change it to the other form"
   ]
  },
  {
   "cell_type": "code",
   "execution_count": null,
   "metadata": {},
   "outputs": [],
   "source": []
  },
  {
   "cell_type": "markdown",
   "metadata": {},
   "source": [
    "## Automatic grouping by category\n",
    "\n",
    "* Big benefit of seaborn is automatically splitting the data into distinct groups\n",
    "* Must have long (tidy) data and not wide data\n",
    "* One **grouping column**\n",
    "* One **graphing column**\n",
    "\n",
    "### Select grouping and graphed columns\n",
    "\n",
    "By default:\n",
    "\n",
    "* Grouping column is non-numeric\n",
    "* Graphing column is numeric\n",
    "\n",
    "#### Graph price by neighborhood\n",
    "\n",
    "* Select top 5 most common neighborhoods\n",
    "* Both `x` and `y` can be grouping/graphing column\n",
    "* Use `order` to limit grouping column"
   ]
  },
  {
   "cell_type": "code",
   "execution_count": null,
   "metadata": {},
   "outputs": [],
   "source": []
  },
  {
   "cell_type": "markdown",
   "metadata": {},
   "source": [
    "### Practice other box plots"
   ]
  },
  {
   "cell_type": "code",
   "execution_count": null,
   "metadata": {},
   "outputs": [],
   "source": []
  },
  {
   "cell_type": "code",
   "execution_count": null,
   "metadata": {},
   "outputs": [],
   "source": []
  },
  {
   "cell_type": "markdown",
   "metadata": {},
   "source": [
    "### Grouping with two numeric variables\n",
    "\n",
    "* Grouping column can be numeric\n",
    "* Set `orient` to 'h' to force seaborn to use other column as grouping column"
   ]
  },
  {
   "cell_type": "code",
   "execution_count": null,
   "metadata": {},
   "outputs": [],
   "source": []
  },
  {
   "cell_type": "markdown",
   "metadata": {},
   "source": [
    "### Grouping within groups with `hue`\n",
    "\n",
    "* `hue` is second grouping column\n",
    "* `hue_order` - specific order for hue categories"
   ]
  },
  {
   "cell_type": "code",
   "execution_count": null,
   "metadata": {},
   "outputs": [],
   "source": []
  },
  {
   "cell_type": "markdown",
   "metadata": {},
   "source": [
    "### Grouping with violin plots\n",
    "\n",
    "* Set `cut=0` to cut off data outside of range"
   ]
  },
  {
   "cell_type": "code",
   "execution_count": null,
   "metadata": {},
   "outputs": [],
   "source": []
  },
  {
   "cell_type": "markdown",
   "metadata": {},
   "source": [
    "### Splitting violin plots when there are exactly two unique categories"
   ]
  },
  {
   "cell_type": "code",
   "execution_count": null,
   "metadata": {},
   "outputs": [],
   "source": []
  },
  {
   "cell_type": "markdown",
   "metadata": {},
   "source": [
    "### Practice grouping and splitting with violin plots "
   ]
  },
  {
   "cell_type": "code",
   "execution_count": null,
   "metadata": {},
   "outputs": [],
   "source": []
  },
  {
   "cell_type": "code",
   "execution_count": null,
   "metadata": {},
   "outputs": [],
   "source": []
  },
  {
   "cell_type": "code",
   "execution_count": null,
   "metadata": {},
   "outputs": [],
   "source": []
  },
  {
   "cell_type": "markdown",
   "metadata": {},
   "source": [
    "## Grouping and Aggregating Plots\n",
    "\n",
    "Next category of plots group and aggregate\n",
    "\n",
    "* One grouping variable\n",
    "* One aggregating variable - gets summarized by a single number by a function (min, max, mean, median, etc...)\n",
    "\n",
    "### Seaborn grouping and aggregating functions\n",
    "\n",
    "* `barplot`\n",
    "* `pointplot`\n",
    "* `countplot`\n",
    "* `lineplot`\n",
    "\n",
    "### Bar plots\n",
    "\n",
    "* Set `x` and `y` to grouping and aggregating columns\n",
    "* Default aggregation is the mean\n",
    "* Set title to clarify the aggregating function used"
   ]
  },
  {
   "cell_type": "code",
   "execution_count": null,
   "metadata": {},
   "outputs": [],
   "source": []
  },
  {
   "cell_type": "markdown",
   "metadata": {},
   "source": [
    "### Change aggregating function with the `estimator` parameter\n",
    "\n",
    "* `estimator` - must use function and not string name\n",
    "    * np.min\n",
    "    * np.max\n",
    "    * np.mean\n",
    "    * np.median\n",
    "* Set `ci=None` to remove confidence interval (which is done by bootstrapping)"
   ]
  },
  {
   "cell_type": "code",
   "execution_count": null,
   "metadata": {},
   "outputs": [],
   "source": []
  },
  {
   "cell_type": "markdown",
   "metadata": {},
   "source": [
    "### Plot median price of top 10 neighborhoods"
   ]
  },
  {
   "cell_type": "code",
   "execution_count": null,
   "metadata": {},
   "outputs": [],
   "source": []
  },
  {
   "cell_type": "markdown",
   "metadata": {},
   "source": [
    "### Wrapping text"
   ]
  },
  {
   "cell_type": "code",
   "execution_count": null,
   "metadata": {},
   "outputs": [],
   "source": [
    "import textwrap\n",
    "def wrap_labels(ax, width):\n",
    "    labels = []\n",
    "    for label in ax.get_xticklabels():\n",
    "        text = label.get_text()\n",
    "        labels.append(textwrap.fill(text, width=width, break_long_words=False))\n",
    "    ax.set_xticklabels(labels, rotation=0)"
   ]
  },
  {
   "cell_type": "markdown",
   "metadata": {},
   "source": [
    "We recreate the same plot, but make it wider and use the new labels at a smaller size."
   ]
  },
  {
   "cell_type": "code",
   "execution_count": null,
   "metadata": {},
   "outputs": [],
   "source": []
  },
  {
   "cell_type": "markdown",
   "metadata": {},
   "source": [
    "### Split again with `hue`\n",
    "\n",
    "Set `hue` to be a categorical variable"
   ]
  },
  {
   "cell_type": "code",
   "execution_count": null,
   "metadata": {},
   "outputs": [],
   "source": []
  },
  {
   "cell_type": "code",
   "execution_count": null,
   "metadata": {},
   "outputs": [],
   "source": []
  },
  {
   "cell_type": "markdown",
   "metadata": {},
   "source": [
    "### Point plots\n",
    "\n",
    "Similar to barplot, but places a point at the calculated statistic and connects them with a line\n",
    "\n",
    "* `scale` - relative size of the line and point\n",
    "* `errwidth`, `capsize` - control confidence interval appearance"
   ]
  },
  {
   "cell_type": "code",
   "execution_count": null,
   "metadata": {},
   "outputs": [],
   "source": []
  },
  {
   "cell_type": "code",
   "execution_count": null,
   "metadata": {},
   "outputs": [],
   "source": []
  },
  {
   "cell_type": "markdown",
   "metadata": {},
   "source": [
    "### Count plots\n",
    "\n",
    "* `countplot` function can be thought of as a specific case of `barplot` \n",
    "    * Calculates the size of each group"
   ]
  },
  {
   "cell_type": "code",
   "execution_count": null,
   "metadata": {},
   "outputs": [],
   "source": [
    "fig, ax = plt.subplots(figsize=(3, 1.8))\n",
    "sns.countplot(x='response_time', data=airbnb, ax=ax)\n",
    "wrap_labels(ax, width=10)"
   ]
  },
  {
   "cell_type": "code",
   "execution_count": null,
   "metadata": {},
   "outputs": [],
   "source": []
  },
  {
   "cell_type": "markdown",
   "metadata": {},
   "source": [
    "### Use `hue` to split"
   ]
  },
  {
   "cell_type": "code",
   "execution_count": null,
   "metadata": {},
   "outputs": [],
   "source": []
  },
  {
   "cell_type": "code",
   "execution_count": null,
   "metadata": {},
   "outputs": [],
   "source": []
  },
  {
   "cell_type": "markdown",
   "metadata": {},
   "source": [
    "### Line plots\n",
    "\n",
    "* `lineplot` is similar to `pointplot` but does not draw markers at every point\n",
    "* It only aggregates the `y` variable and expects `x` to be either numeric or datetime but not categorical\n",
    "* It aggregates points with the same x"
   ]
  },
  {
   "cell_type": "code",
   "execution_count": null,
   "metadata": {},
   "outputs": [],
   "source": [
    "covid = pd.read_csv('../data/covid.csv', parse_dates=['date'])\n",
    "covid"
   ]
  },
  {
   "cell_type": "code",
   "execution_count": null,
   "metadata": {},
   "outputs": [],
   "source": []
  },
  {
   "cell_type": "markdown",
   "metadata": {},
   "source": [
    "## Raw data plots\n",
    "\n",
    "* `scatterplot` - can also aggregate\n",
    "* `regplot`\n",
    "* `heatmap`\n",
    "\n",
    "### Scatter plots\n",
    "\n",
    "* `scatterplot` - `x` and `y` usually numeric"
   ]
  },
  {
   "cell_type": "code",
   "execution_count": null,
   "metadata": {},
   "outputs": [],
   "source": [
    "ax = sns.scatterplot(x='longitude', y='latitude', data=airbnb, s=16, hue='neighborhood')\n",
    "ax.legend(bbox_to_anchor=(1, 1))"
   ]
  },
  {
   "cell_type": "markdown",
   "metadata": {},
   "source": [
    "### Mini-project - finding the listings within 1 mile of the Whitehouse"
   ]
  },
  {
   "cell_type": "code",
   "execution_count": null,
   "metadata": {
    "scrolled": false
   },
   "outputs": [],
   "source": [
    "wh_coords = -77.0365, 38.8977\n",
    "fig, ax = plt.subplots(figsize=(4, 4))\n",
    "ax.set_aspect('equal')\n",
    "sns.scatterplot(x='longitude', y='latitude', data=airbnb, s=16, ax=ax)\n",
    "\n",
    "# easier to use matplotlib to plot a single point\n",
    "ax.scatter(*wh_coords, marker='*', c='white', ec='red', lw=1.5, s=150)\n",
    "ax.annotate('White House', xy=wh_coords, xytext=(-77.09, 38.86), \n",
    "            arrowprops={'arrowstyle': '->', 'shrinkB': 7, 'color': 'black'})\n",
    "ax.set_title('Washington D.C Airbnb Listings');"
   ]
  },
  {
   "cell_type": "markdown",
   "metadata": {},
   "source": [
    "### Estimate distance"
   ]
  },
  {
   "cell_type": "code",
   "execution_count": null,
   "metadata": {},
   "outputs": [],
   "source": [
    "dist_degree = ((airbnb['longitude'] - wh_coords[0]) ** 2 + \n",
    "               (airbnb['latitude'] - wh_coords[1]) ** 2) ** .5\n",
    "dist_degree.head(3)"
   ]
  },
  {
   "cell_type": "markdown",
   "metadata": {},
   "source": [
    "### Approximate miles per degree"
   ]
  },
  {
   "cell_type": "code",
   "execution_count": null,
   "metadata": {},
   "outputs": [],
   "source": [
    "miles_per_degree = 25000 / 360\n",
    "miles_per_degree"
   ]
  },
  {
   "cell_type": "markdown",
   "metadata": {},
   "source": [
    "### Find miles from Whitehouse"
   ]
  },
  {
   "cell_type": "code",
   "execution_count": null,
   "metadata": {},
   "outputs": [],
   "source": [
    "airbnb['miles_from_wh'] = (dist_degree * miles_per_degree).round(2)\n",
    "airbnb['miles_from_wh'].head(3)"
   ]
  },
  {
   "cell_type": "markdown",
   "metadata": {},
   "source": [
    "### Create boolean column "
   ]
  },
  {
   "cell_type": "code",
   "execution_count": null,
   "metadata": {},
   "outputs": [],
   "source": [
    "airbnb['near_whitehouse'] = airbnb['miles_from_wh'] < 1"
   ]
  },
  {
   "cell_type": "markdown",
   "metadata": {},
   "source": [
    "### Function to setup plotting of Whitehouse"
   ]
  },
  {
   "cell_type": "code",
   "execution_count": null,
   "metadata": {},
   "outputs": [],
   "source": [
    "def setup_wh_plot(figsize=(4, 4)):\n",
    "    wh_coords = -77.0365, 38.8977\n",
    "    fig, ax = plt.subplots(figsize=figsize)\n",
    "    ax.set_aspect('equal')\n",
    "    ax.scatter(*wh_coords, marker='*', c='white', ec='red', lw=1.5, s=150, zorder=3)\n",
    "    ax.set_title('Airbnb Listings Near White House')\n",
    "    return ax"
   ]
  },
  {
   "cell_type": "markdown",
   "metadata": {},
   "source": [
    "### Use `hue` to color"
   ]
  },
  {
   "cell_type": "code",
   "execution_count": null,
   "metadata": {},
   "outputs": [],
   "source": [
    "ax = setup_wh_plot()\n",
    "sns.scatterplot(x='longitude', y='latitude', data=airbnb, s=16, ax=ax, hue='near_whitehouse')"
   ]
  },
  {
   "cell_type": "markdown",
   "metadata": {},
   "source": [
    "## Set color, style, size, color by other variables\n",
    "\n",
    "* `hue` - column to color by - use with `hue_order`, `hue_norm`\n",
    "* `style` - column to style by - use with `style_order`\n",
    "* `size` - column to size by - use with `size_order`, `size_norm`"
   ]
  },
  {
   "cell_type": "code",
   "execution_count": null,
   "metadata": {},
   "outputs": [],
   "source": []
  }
 ],
 "metadata": {
  "kernelspec": {
   "display_name": "Python 3 (ipykernel)",
   "language": "python",
   "name": "python3"
  },
  "language_info": {
   "codemirror_mode": {
    "name": "ipython",
    "version": 3
   },
   "file_extension": ".py",
   "mimetype": "text/x-python",
   "name": "python",
   "nbconvert_exporter": "python",
   "pygments_lexer": "ipython3",
   "version": "3.8.2"
  },
  "varInspector": {
   "cols": {
    "lenName": 16,
    "lenType": 16,
    "lenVar": 40
   },
   "kernels_config": {
    "python": {
     "delete_cmd_postfix": "",
     "delete_cmd_prefix": "del ",
     "library": "var_list.py",
     "varRefreshCmd": "print(var_dic_list())"
    },
    "r": {
     "delete_cmd_postfix": ") ",
     "delete_cmd_prefix": "rm(",
     "library": "var_list.r",
     "varRefreshCmd": "cat(var_dic_list()) "
    }
   },
   "types_to_exclude": [
    "module",
    "function",
    "builtin_function_or_method",
    "instance",
    "_Feature"
   ],
   "window_display": false
  }
 },
 "nbformat": 4,
 "nbformat_minor": 2
}
